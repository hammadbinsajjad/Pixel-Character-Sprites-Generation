{
 "cells": [
  {
   "attachments": {},
   "cell_type": "markdown",
   "metadata": {},
   "source": [
    "## Converting Images to Numpy Array File (.npy) for easier and efficient use"
   ]
  },
  {
   "attachments": {},
   "cell_type": "markdown",
   "metadata": {},
   "source": [
    "### Dataset Source: [TinyHero - Retro pixel characters dataset](https://www.kaggle.com/datasets/calmness/retro-pixel-characters-generator)\n",
    "\n",
    "We are using the front facing images in the .images folder (data/2/ folder in the original dataset)"
   ]
  },
  {
   "cell_type": "code",
   "execution_count": 5,
   "metadata": {},
   "outputs": [],
   "source": [
    "import numpy as np\n",
    "import cv2 as cv"
   ]
  },
  {
   "cell_type": "code",
   "execution_count": 6,
   "metadata": {},
   "outputs": [],
   "source": [
    "# Read images from the .images/ directory\n",
    "from os import listdir\n",
    "\n",
    "# Read images from the .images/ directory\n",
    "images = []\n",
    "for filename in listdir('images'):\n",
    "    img = cv.imread('images/' + filename)\n",
    "    if img is not None:\n",
    "        images.append(img)\n",
    "\n",
    "# Convert images to numpy arrays\n",
    "images = np.array(images)"
   ]
  },
  {
   "cell_type": "code",
   "execution_count": 7,
   "metadata": {},
   "outputs": [
    {
     "data": {
      "text/plain": [
       "(912, 64, 64, 3)"
      ]
     },
     "execution_count": 7,
     "metadata": {},
     "output_type": "execute_result"
    }
   ],
   "source": [
    "images.shape"
   ]
  },
  {
   "cell_type": "code",
   "execution_count": 8,
   "metadata": {},
   "outputs": [],
   "source": [
    "# Save the images array to a npy file\n",
    "np.save('images.npy', images)"
   ]
  }
 ],
 "metadata": {
  "kernelspec": {
   "display_name": "Project-aHz-na62",
   "language": "python",
   "name": "python3"
  },
  "language_info": {
   "codemirror_mode": {
    "name": "ipython",
    "version": 3
   },
   "file_extension": ".py",
   "mimetype": "text/x-python",
   "name": "python",
   "nbconvert_exporter": "python",
   "pygments_lexer": "ipython3",
   "version": "3.10.6"
  },
  "orig_nbformat": 4
 },
 "nbformat": 4,
 "nbformat_minor": 2
}
